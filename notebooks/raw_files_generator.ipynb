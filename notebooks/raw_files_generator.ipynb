{
 "cells": [
  {
   "cell_type": "code",
   "execution_count": null,
   "metadata": {},
   "outputs": [],
   "source": [
    "import pandas as pd"
   ]
  },
  {
   "cell_type": "code",
   "execution_count": null,
   "metadata": {},
   "outputs": [
    {
     "name": "stderr",
     "output_type": "stream",
     "text": [
      "/tmp/ipykernel_26001/4066925998.py:2: DtypeWarning: Columns (9,10) have mixed types. Specify dtype option on import or set low_memory=False.\n",
      "  poverty = pd.read_csv(poverty_csv)\n"
     ]
    },
    {
     "data": {
      "text/plain": [
       "Index(['ref_area.label', 'source.label', 'indicator.label', 'sex.label',\n",
       "       'classif1.label', 'classif2.label', 'time', 'obs_value',\n",
       "       'obs_status.label', 'note_classif.label', 'note_indicator.label',\n",
       "       'note_source.label'],\n",
       "      dtype='object')"
      ]
     },
     "execution_count": 6,
     "metadata": {},
     "output_type": "execute_result"
    }
   ],
   "source": [
    "poverty_csv = '../data/raw/pobreza.csv'\n",
    "poverty = pd.read_csv(poverty_csv)\n",
    "poverty"
   ]
  },
  {
   "cell_type": "code",
   "execution_count": 34,
   "metadata": {},
   "outputs": [],
   "source": [
    "grouped_df = poverty.groupby('indicator.label')\n",
    "\n",
    "for indicator, group_df in grouped_df:\n",
    "    if len(group_df) >= 250:\n",
    "        filename = f\"../data/raw/poverty/{indicator.lower().replace('/','-').replace(' ', '_')}.csv\"\n",
    "        group_df.to_csv(filename, index=False)"
   ]
  }
 ],
 "metadata": {
  "kernelspec": {
   "display_name": "project",
   "language": "python",
   "name": "python3"
  },
  "language_info": {
   "codemirror_mode": {
    "name": "ipython",
    "version": 3
   },
   "file_extension": ".py",
   "mimetype": "text/x-python",
   "name": "python",
   "nbconvert_exporter": "python",
   "pygments_lexer": "ipython3",
   "version": "3.11.2"
  }
 },
 "nbformat": 4,
 "nbformat_minor": 2
}
