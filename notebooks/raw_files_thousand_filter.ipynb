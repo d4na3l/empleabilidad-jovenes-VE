{
 "cells": [
  {
   "cell_type": "code",
   "execution_count": 16,
   "metadata": {},
   "outputs": [],
   "source": [
    "import os\n",
    "import shutil"
   ]
  },
  {
   "cell_type": "code",
   "execution_count": 17,
   "metadata": {},
   "outputs": [],
   "source": [
    "def move_files_with_average(source_folder, destination_folder):\n",
    "  \"\"\"\n",
    "  Mueve todos los archivos que contengan la palabra 'age' en su nombre\n",
    "  desde la carpeta source_folder a la carpeta destination_folder.\n",
    "\n",
    "  Args:\n",
    "    source_folder: La ruta de la carpeta de origen.\n",
    "    destination_folder: La ruta de la carpeta de destino.\n",
    "  \"\"\"\n",
    "\n",
    "  for filename in os.listdir(source_folder):\n",
    "    if '%' in filename:\n",
    "      source_file = os.path.join(source_folder, filename)\n",
    "      destination = os.path.join(destination_folder, filename)\n",
    "      shutil.move(source_file, destination)\n",
    "      print(f\"Movido: {source_file} a {destination}\")"
   ]
  },
  {
   "cell_type": "code",
   "execution_count": 18,
   "metadata": {},
   "outputs": [
    {
     "name": "stdout",
     "output_type": "stream",
     "text": [
      "Movido: ../data/raw/composite_rate_of_labour_underutilization_(lu4)_by_sex,_age_and_rural_-_urban_areas_--_ilo_modelled_estimates,_nov._2020_(%).csv a ../data/raw/filtering/composite_rate_of_labour_underutilization_(lu4)_by_sex,_age_and_rural_-_urban_areas_--_ilo_modelled_estimates,_nov._2020_(%).csv\n",
      "Movido: ../data/raw/youth_unemployment_rate_by_sex,_age_and_education_(%).csv a ../data/raw/filtering/youth_unemployment_rate_by_sex,_age_and_education_(%).csv\n",
      "Movido: ../data/raw/prime-age_unemployment_rate_by_sex,_household_type_and_presence_of_children_(%).csv a ../data/raw/filtering/prime-age_unemployment_rate_by_sex,_household_type_and_presence_of_children_(%).csv\n",
      "Movido: ../data/raw/prime-age_labour_force_participation_rate_by_sex,_household_type_and_presence_of_children_(%).csv a ../data/raw/filtering/prime-age_labour_force_participation_rate_by_sex,_household_type_and_presence_of_children_(%).csv\n",
      "Movido: ../data/raw/unemployment_rate_by_sex,_age_and_education_(%).csv a ../data/raw/filtering/unemployment_rate_by_sex,_age_and_education_(%).csv\n",
      "Movido: ../data/raw/employment-to-population_ratio_by_sex,_age_and_marital_status_(%).csv a ../data/raw/filtering/employment-to-population_ratio_by_sex,_age_and_marital_status_(%).csv\n",
      "Movido: ../data/raw/share_of_employment_outside_the_formal_sector_by_sex,_age_and_education_(%).csv a ../data/raw/filtering/share_of_employment_outside_the_formal_sector_by_sex,_age_and_education_(%).csv\n",
      "Movido: ../data/raw/youth_inactivity_rate_by_sex,_age_and_school_attendance_status_(%).csv a ../data/raw/filtering/youth_inactivity_rate_by_sex,_age_and_school_attendance_status_(%).csv\n",
      "Movido: ../data/raw/labour_force_participation_rate_by_sex,_age_and_education_(%).csv a ../data/raw/filtering/labour_force_participation_rate_by_sex,_age_and_education_(%).csv\n",
      "Movido: ../data/raw/youth_unemployment-to-population_ratio_by_sex,_age_and_education_(%).csv a ../data/raw/filtering/youth_unemployment-to-population_ratio_by_sex,_age_and_education_(%).csv\n",
      "Movido: ../data/raw/labour_force_participation_rate_by_sex,_age_and_rural_-_urban_areas_--_ilo_modelled_estimates,_nov._2021_(%).csv a ../data/raw/filtering/labour_force_participation_rate_by_sex,_age_and_rural_-_urban_areas_--_ilo_modelled_estimates,_nov._2021_(%).csv\n",
      "Movido: ../data/raw/informal_employment_rate_by_sex,_age_and_occupation_(%).csv a ../data/raw/filtering/informal_employment_rate_by_sex,_age_and_occupation_(%).csv\n",
      "Movido: ../data/raw/inactivity_rate_by_sex,_age_and_marital_status_(%).csv a ../data/raw/filtering/inactivity_rate_by_sex,_age_and_marital_status_(%).csv\n",
      "Movido: ../data/raw/youth_unemployment-to-population_ratio_by_sex,_age_and_school_attendance_status_(%).csv a ../data/raw/filtering/youth_unemployment-to-population_ratio_by_sex,_age_and_school_attendance_status_(%).csv\n",
      "Movido: ../data/raw/share_of_employment_outside_the_formal_sector_by_sex,_age_and_marital_status_(%).csv a ../data/raw/filtering/share_of_employment_outside_the_formal_sector_by_sex,_age_and_marital_status_(%).csv\n",
      "Movido: ../data/raw/unemployment_rate_by_sex,_age_and_rural_-_urban_areas_--_ilo_modelled_estimates,_nov._2021_(%).csv a ../data/raw/filtering/unemployment_rate_by_sex,_age_and_rural_-_urban_areas_--_ilo_modelled_estimates,_nov._2021_(%).csv\n",
      "Movido: ../data/raw/youth_labour_force_participation_rate_by_sex,_age_and_school_attendance_status_(%).csv a ../data/raw/filtering/youth_labour_force_participation_rate_by_sex,_age_and_school_attendance_status_(%).csv\n",
      "Movido: ../data/raw/youth_employment-to-population_ratio_by_sex,_age_and_school_attendance_status_(%).csv a ../data/raw/filtering/youth_employment-to-population_ratio_by_sex,_age_and_school_attendance_status_(%).csv\n",
      "Movido: ../data/raw/labour_force_participation_rate_by_sex_and_age_(%).csv a ../data/raw/filtering/labour_force_participation_rate_by_sex_and_age_(%).csv\n",
      "Movido: ../data/raw/employment-to-population_ratio_by_sex_and_age_(%).csv a ../data/raw/filtering/employment-to-population_ratio_by_sex_and_age_(%).csv\n",
      "Movido: ../data/raw/inactivity_rate_by_sex_and_age_--_ilo_modelled_estimates,_nov._2023_(%).csv a ../data/raw/filtering/inactivity_rate_by_sex_and_age_--_ilo_modelled_estimates,_nov._2023_(%).csv\n",
      "Movido: ../data/raw/youth_labour_force_participation_rate_by_sex,_age_and_education_(%).csv a ../data/raw/filtering/youth_labour_force_participation_rate_by_sex,_age_and_education_(%).csv\n",
      "Movido: ../data/raw/labour_force_participation_rate_by_sex,_age_and_marital_status_(%).csv a ../data/raw/filtering/labour_force_participation_rate_by_sex,_age_and_marital_status_(%).csv\n",
      "Movido: ../data/raw/informal_employment_rate_by_sex,_age_and_economic_activity_(%).csv a ../data/raw/filtering/informal_employment_rate_by_sex,_age_and_economic_activity_(%).csv\n",
      "Movido: ../data/raw/employment-to-population_ratio_by_sex_and_age_--_ilo_modelled_estimates,_nov._2023_(%).csv a ../data/raw/filtering/employment-to-population_ratio_by_sex_and_age_--_ilo_modelled_estimates,_nov._2023_(%).csv\n",
      "Movido: ../data/raw/unemployment_rate_by_sex,_age_and_marital_status_(%).csv a ../data/raw/filtering/unemployment_rate_by_sex,_age_and_marital_status_(%).csv\n",
      "Movido: ../data/raw/inactivity_rate_by_sex_and_age_(%).csv a ../data/raw/filtering/inactivity_rate_by_sex_and_age_(%).csv\n",
      "Movido: ../data/raw/informal_employment_rate_by_sex,_age_and_education_(%).csv a ../data/raw/filtering/informal_employment_rate_by_sex,_age_and_education_(%).csv\n",
      "Movido: ../data/raw/share_of_employment_outside_the_formal_sector_by_sex,_age_and_economic_activity_(%).csv a ../data/raw/filtering/share_of_employment_outside_the_formal_sector_by_sex,_age_and_economic_activity_(%).csv\n",
      "Movido: ../data/raw/youth_employment-to-population_ratio_by_sex,_age_and_education_(%).csv a ../data/raw/filtering/youth_employment-to-population_ratio_by_sex,_age_and_education_(%).csv\n",
      "Movido: ../data/raw/inactivity_rate_by_sex,_age_and_rural_-_urban_areas_--_ilo_modelled_estimates,_nov._2021_(%).csv a ../data/raw/filtering/inactivity_rate_by_sex,_age_and_rural_-_urban_areas_--_ilo_modelled_estimates,_nov._2021_(%).csv\n",
      "Movido: ../data/raw/youth_unemployment_rate_by_sex,_age_and_school_attendance_status_(%).csv a ../data/raw/filtering/youth_unemployment_rate_by_sex,_age_and_school_attendance_status_(%).csv\n",
      "Movido: ../data/raw/employment-to-population_ratio_by_sex,_age_and_education_(%).csv a ../data/raw/filtering/employment-to-population_ratio_by_sex,_age_and_education_(%).csv\n",
      "Movido: ../data/raw/unemployment_rate_by_sex_and_age_(%).csv a ../data/raw/filtering/unemployment_rate_by_sex_and_age_(%).csv\n",
      "Movido: ../data/raw/unemployment_rate_by_sex_and_age_--_ilo_modelled_estimates,_may_2024_(%).csv a ../data/raw/filtering/unemployment_rate_by_sex_and_age_--_ilo_modelled_estimates,_may_2024_(%).csv\n",
      "Movido: ../data/raw/youth_inactivity_rate_by_sex,_age_and_education_(%).csv a ../data/raw/filtering/youth_inactivity_rate_by_sex,_age_and_education_(%).csv\n",
      "Movido: ../data/raw/share_of_employment_outside_the_formal_sector_by_sex,_age_and_occupation_(%).csv a ../data/raw/filtering/share_of_employment_outside_the_formal_sector_by_sex,_age_and_occupation_(%).csv\n",
      "Movido: ../data/raw/inactivity_rate_by_sex,_age_and_education_(%).csv a ../data/raw/filtering/inactivity_rate_by_sex,_age_and_education_(%).csv\n",
      "Movido: ../data/raw/combined_rate_of_unemployment_and_potential_labour_force_(lu3)_by_sex,_age_and_rural_-_urban_areas_--_ilo_modelled_estimates,_nov._2020_(%).csv a ../data/raw/filtering/combined_rate_of_unemployment_and_potential_labour_force_(lu3)_by_sex,_age_and_rural_-_urban_areas_--_ilo_modelled_estimates,_nov._2020_(%).csv\n",
      "Movido: ../data/raw/employment-to-population_ratio_by_sex,_age_and_rural_-_urban_areas_--_ilo_modelled_estimates,_nov._2021_(%).csv a ../data/raw/filtering/employment-to-population_ratio_by_sex,_age_and_rural_-_urban_areas_--_ilo_modelled_estimates,_nov._2021_(%).csv\n",
      "Movido: ../data/raw/prime-age_employment-to-population_ratio_by_sex,_household_type_and_presence_of_children_(%).csv a ../data/raw/filtering/prime-age_employment-to-population_ratio_by_sex,_household_type_and_presence_of_children_(%).csv\n",
      "Movido: ../data/raw/labour_force_participation_rate_by_sex_and_age_--_ilo_modelled_estimates,_nov._2023_(%).csv a ../data/raw/filtering/labour_force_participation_rate_by_sex_and_age_--_ilo_modelled_estimates,_nov._2023_(%).csv\n",
      "Movido: ../data/raw/informal_employment_rate_by_sex,_age_and_marital_status_(%).csv a ../data/raw/filtering/informal_employment_rate_by_sex,_age_and_marital_status_(%).csv\n",
      "Movido: ../data/raw/combined_rate_of_time-related_underemployment_and_unemployment_(lu2)_by_sex,_age_and_rural_-_urban_areas_--_ilo_modelled_estimates,_nov._2020_(%).csv a ../data/raw/filtering/combined_rate_of_time-related_underemployment_and_unemployment_(lu2)_by_sex,_age_and_rural_-_urban_areas_--_ilo_modelled_estimates,_nov._2020_(%).csv\n"
     ]
    }
   ],
   "source": [
    "# Ejemplo de uso:\n",
    "source_dir = \"../data/raw/\"\n",
    "destination_dir = \"../data/raw/filtering\"\n",
    "\n",
    "move_files_with_average(source_dir, destination_dir)"
   ]
  }
 ],
 "metadata": {
  "language_info": {
   "name": "python"
  }
 },
 "nbformat": 4,
 "nbformat_minor": 2
}
