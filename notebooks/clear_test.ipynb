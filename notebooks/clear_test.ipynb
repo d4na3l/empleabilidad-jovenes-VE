{
 "cells": [
  {
   "cell_type": "code",
   "execution_count": 1,
   "metadata": {},
   "outputs": [],
   "source": [
    "import sys\n",
    "from pathlib import Path\n",
    "\n",
    "# Añade el directorio raíz del proyecto al sys.path\n",
    "project_root = Path('../').resolve()\n",
    "if str(project_root) not in sys.path:\n",
    "    sys.path.insert(0, str(project_root))"
   ]
  },
  {
   "cell_type": "code",
   "execution_count": 15,
   "metadata": {},
   "outputs": [],
   "source": [
    "import pandas as pd\n",
    "\n",
    "# Carga el archivo CSV como DataFrame\n",
    "input_csv = \"../data/raw/poverty/employment_outside_the_formal_sector_by_sex,_education_and_marital_status_(thousands).csv\"\n",
    "df = pd.read_csv(input_csv)"
   ]
  },
  {
   "cell_type": "code",
   "execution_count": 16,
   "metadata": {},
   "outputs": [
    {
     "data": {
      "text/html": [
       "<div>\n",
       "<style scoped>\n",
       "    .dataframe tbody tr th:only-of-type {\n",
       "        vertical-align: middle;\n",
       "    }\n",
       "\n",
       "    .dataframe tbody tr th {\n",
       "        vertical-align: top;\n",
       "    }\n",
       "\n",
       "    .dataframe thead th {\n",
       "        text-align: right;\n",
       "    }\n",
       "</style>\n",
       "<table border=\"1\" class=\"dataframe\">\n",
       "  <thead>\n",
       "    <tr style=\"text-align: right;\">\n",
       "      <th></th>\n",
       "      <th>ref_area.label</th>\n",
       "      <th>source.label</th>\n",
       "      <th>indicator.label</th>\n",
       "      <th>sex.label</th>\n",
       "      <th>classif1.label</th>\n",
       "      <th>classif2.label</th>\n",
       "      <th>time</th>\n",
       "      <th>obs_value</th>\n",
       "      <th>obs_status.label</th>\n",
       "      <th>note_classif.label</th>\n",
       "      <th>note_indicator.label</th>\n",
       "      <th>note_source.label</th>\n",
       "    </tr>\n",
       "  </thead>\n",
       "  <tbody>\n",
       "    <tr>\n",
       "      <th>0</th>\n",
       "      <td>Venezuela (Bolivarian Republic of)</td>\n",
       "      <td>LFS - Household Sample Survey</td>\n",
       "      <td>Employment outside the formal sector by sex, e...</td>\n",
       "      <td>Sex: Total</td>\n",
       "      <td>Education (Aggregate levels): Total</td>\n",
       "      <td>Marital status (Aggregate): Total</td>\n",
       "      <td>2017</td>\n",
       "      <td>7120.241</td>\n",
       "      <td>NaN</td>\n",
       "      <td>NaN</td>\n",
       "      <td>NaN</td>\n",
       "      <td>Repository: ILO-STATISTICS - Micro data proces...</td>\n",
       "    </tr>\n",
       "    <tr>\n",
       "      <th>1</th>\n",
       "      <td>Venezuela (Bolivarian Republic of)</td>\n",
       "      <td>LFS - Household Sample Survey</td>\n",
       "      <td>Employment outside the formal sector by sex, e...</td>\n",
       "      <td>Sex: Total</td>\n",
       "      <td>Education (Aggregate levels): Total</td>\n",
       "      <td>Marital status (Aggregate): Single / Widowed /...</td>\n",
       "      <td>2017</td>\n",
       "      <td>3199.889</td>\n",
       "      <td>NaN</td>\n",
       "      <td>NaN</td>\n",
       "      <td>NaN</td>\n",
       "      <td>Repository: ILO-STATISTICS - Micro data proces...</td>\n",
       "    </tr>\n",
       "    <tr>\n",
       "      <th>2</th>\n",
       "      <td>Venezuela (Bolivarian Republic of)</td>\n",
       "      <td>LFS - Household Sample Survey</td>\n",
       "      <td>Employment outside the formal sector by sex, e...</td>\n",
       "      <td>Sex: Total</td>\n",
       "      <td>Education (Aggregate levels): Total</td>\n",
       "      <td>Marital status (Aggregate): Married / Union / ...</td>\n",
       "      <td>2017</td>\n",
       "      <td>3912.460</td>\n",
       "      <td>NaN</td>\n",
       "      <td>NaN</td>\n",
       "      <td>NaN</td>\n",
       "      <td>Repository: ILO-STATISTICS - Micro data proces...</td>\n",
       "    </tr>\n",
       "    <tr>\n",
       "      <th>3</th>\n",
       "      <td>Venezuela (Bolivarian Republic of)</td>\n",
       "      <td>LFS - Household Sample Survey</td>\n",
       "      <td>Employment outside the formal sector by sex, e...</td>\n",
       "      <td>Sex: Total</td>\n",
       "      <td>Education (Aggregate levels): Total</td>\n",
       "      <td>Marital status (Aggregate): Not elsewhere clas...</td>\n",
       "      <td>2017</td>\n",
       "      <td>7.892</td>\n",
       "      <td>NaN</td>\n",
       "      <td>NaN</td>\n",
       "      <td>NaN</td>\n",
       "      <td>Repository: ILO-STATISTICS - Micro data proces...</td>\n",
       "    </tr>\n",
       "    <tr>\n",
       "      <th>4</th>\n",
       "      <td>Venezuela (Bolivarian Republic of)</td>\n",
       "      <td>LFS - Household Sample Survey</td>\n",
       "      <td>Employment outside the formal sector by sex, e...</td>\n",
       "      <td>Sex: Total</td>\n",
       "      <td>Education (Aggregate levels): Less than basic</td>\n",
       "      <td>Marital status (Aggregate): Total</td>\n",
       "      <td>2017</td>\n",
       "      <td>253.098</td>\n",
       "      <td>NaN</td>\n",
       "      <td>NaN</td>\n",
       "      <td>NaN</td>\n",
       "      <td>Repository: ILO-STATISTICS - Micro data proces...</td>\n",
       "    </tr>\n",
       "  </tbody>\n",
       "</table>\n",
       "</div>"
      ],
      "text/plain": [
       "                       ref_area.label                   source.label  \\\n",
       "0  Venezuela (Bolivarian Republic of)  LFS - Household Sample Survey   \n",
       "1  Venezuela (Bolivarian Republic of)  LFS - Household Sample Survey   \n",
       "2  Venezuela (Bolivarian Republic of)  LFS - Household Sample Survey   \n",
       "3  Venezuela (Bolivarian Republic of)  LFS - Household Sample Survey   \n",
       "4  Venezuela (Bolivarian Republic of)  LFS - Household Sample Survey   \n",
       "\n",
       "                                     indicator.label   sex.label  \\\n",
       "0  Employment outside the formal sector by sex, e...  Sex: Total   \n",
       "1  Employment outside the formal sector by sex, e...  Sex: Total   \n",
       "2  Employment outside the formal sector by sex, e...  Sex: Total   \n",
       "3  Employment outside the formal sector by sex, e...  Sex: Total   \n",
       "4  Employment outside the formal sector by sex, e...  Sex: Total   \n",
       "\n",
       "                                  classif1.label  \\\n",
       "0            Education (Aggregate levels): Total   \n",
       "1            Education (Aggregate levels): Total   \n",
       "2            Education (Aggregate levels): Total   \n",
       "3            Education (Aggregate levels): Total   \n",
       "4  Education (Aggregate levels): Less than basic   \n",
       "\n",
       "                                      classif2.label  time  obs_value  \\\n",
       "0                  Marital status (Aggregate): Total  2017   7120.241   \n",
       "1  Marital status (Aggregate): Single / Widowed /...  2017   3199.889   \n",
       "2  Marital status (Aggregate): Married / Union / ...  2017   3912.460   \n",
       "3  Marital status (Aggregate): Not elsewhere clas...  2017      7.892   \n",
       "4                  Marital status (Aggregate): Total  2017    253.098   \n",
       "\n",
       "  obs_status.label note_classif.label  note_indicator.label  \\\n",
       "0              NaN                NaN                   NaN   \n",
       "1              NaN                NaN                   NaN   \n",
       "2              NaN                NaN                   NaN   \n",
       "3              NaN                NaN                   NaN   \n",
       "4              NaN                NaN                   NaN   \n",
       "\n",
       "                                   note_source.label  \n",
       "0  Repository: ILO-STATISTICS - Micro data proces...  \n",
       "1  Repository: ILO-STATISTICS - Micro data proces...  \n",
       "2  Repository: ILO-STATISTICS - Micro data proces...  \n",
       "3  Repository: ILO-STATISTICS - Micro data proces...  \n",
       "4  Repository: ILO-STATISTICS - Micro data proces...  "
      ]
     },
     "execution_count": 16,
     "metadata": {},
     "output_type": "execute_result"
    }
   ],
   "source": [
    "df.head()"
   ]
  },
  {
   "cell_type": "code",
   "execution_count": 6,
   "metadata": {},
   "outputs": [
    {
     "data": {
      "text/plain": [
       "<module 'src.clean_oit_data' from '/home/daniel/SIC/empleabilidad-jovenes-VE/src/clean_oit_data.py'>"
      ]
     },
     "execution_count": 6,
     "metadata": {},
     "output_type": "execute_result"
    }
   ],
   "source": [
    "import importlib\n",
    "import src.clean_oit_data as clean_save\n",
    "importlib.reload(clean_save)"
   ]
  },
  {
   "cell_type": "code",
   "execution_count": 17,
   "metadata": {},
   "outputs": [],
   "source": [
    "# Importar la función desde el archivo en src/\n",
    "from src.clean_oit_data import clean_oit_data\n",
    "\n",
    "# Llamada correcta a la función con el parámetro 'debug' activado\n",
    "clean_oit_data(df, output_dir=\"../data/processed/\")"
   ]
  },
  {
   "cell_type": "code",
   "execution_count": 23,
   "metadata": {},
   "outputs": [
    {
     "name": "stdout",
     "output_type": "stream",
     "text": [
      "<class 'pandas.core.frame.DataFrame'>\n",
      "RangeIndex: 486 entries, 0 to 485\n",
      "Data columns (total 7 columns):\n",
      " #   Column                        Non-Null Count  Dtype  \n",
      "---  ------                        --------------  -----  \n",
      " 0   time                          486 non-null    int64  \n",
      " 1   obs_value                     387 non-null    float64\n",
      " 2   Sex                           486 non-null    object \n",
      " 3   Education (Aggregate levels)  198 non-null    object \n",
      " 4   Education (ISCED-11)          288 non-null    object \n",
      " 5   Marital status (Aggregate)    177 non-null    object \n",
      " 6   Marital status (Detailed)     309 non-null    object \n",
      "dtypes: float64(1), int64(1), object(5)\n",
      "memory usage: 26.7+ KB\n"
     ]
    }
   ],
   "source": [
    "new_csv = '../data/processed/cleanned_employment_outside_the_formal_sector_by_sex,_education_and_marital_status_(thousands).csv'\n",
    "new_df = pd.read_csv(new_csv)\n",
    "new_df.info()"
   ]
  }
 ],
 "metadata": {
  "kernelspec": {
   "display_name": "project",
   "language": "python",
   "name": "python3"
  },
  "language_info": {
   "codemirror_mode": {
    "name": "ipython",
    "version": 3
   },
   "file_extension": ".py",
   "mimetype": "text/x-python",
   "name": "python",
   "nbconvert_exporter": "python",
   "pygments_lexer": "ipython3",
   "version": "3.11.2"
  }
 },
 "nbformat": 4,
 "nbformat_minor": 2
}
